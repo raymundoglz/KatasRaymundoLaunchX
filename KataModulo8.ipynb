{
 "cells": [
  {
   "cell_type": "markdown",
   "metadata": {},
   "source": [
    "# Ejercicio 1: Creación de diccionarios de Python"
   ]
  },
  {
   "cell_type": "code",
   "execution_count": 26,
   "metadata": {},
   "outputs": [
    {
     "name": "stdout",
     "output_type": "stream",
     "text": [
      "Mars tiene 2 lunas\n"
     ]
    }
   ],
   "source": [
    "planet = {'name': 'Mars' , 'moons': 2}\n",
    "\n",
    "#print(planet.keys(),planet.values())\n",
    "\n",
    "print('{nam} tiene {val} lunas'.format(nam=planet.get('name'),val=planet.get('moons')))"
   ]
  },
  {
   "cell_type": "code",
   "execution_count": 27,
   "metadata": {},
   "outputs": [
    {
     "name": "stdout",
     "output_type": "stream",
     "text": [
      "El planeta Mars tiene de circunferencia polar: 6752 kms\n"
     ]
    }
   ],
   "source": [
    "planet = {'name': 'Mars' , 'moons': 2}\n",
    "\n",
    "planet['circunferencia(km)'] = {\n",
    "    'polar': 6752,\n",
    "    'equatorial': 6792\n",
    "}\n",
    "\n",
    "print('El planeta {nam} tiene de circunferencia polar: {val} kms'.format(nam=planet['name'],val=planet['circunferencia(km)']['polar']))"
   ]
  },
  {
   "cell_type": "markdown",
   "metadata": {},
   "source": [
    "# Ejercicio 2: Programación dinámica con diccionarios"
   ]
  },
  {
   "cell_type": "code",
   "execution_count": 24,
   "metadata": {},
   "outputs": [
    {
     "name": "stdout",
     "output_type": "stream",
     "text": [
      "Total de lunas:214\n",
      "Total de planetas:12\n",
      "Promedio de lunas:18\n"
     ]
    }
   ],
   "source": [
    "planet_moons = {\n",
    "    'mercury': 0,\n",
    "    'venus': 0,\n",
    "    'earth': 1,\n",
    "    'mars': 2,\n",
    "    'jupiter': 79,\n",
    "    'saturn': 82,\n",
    "    'uranus': 27,\n",
    "    'neptune': 14,\n",
    "    'pluto': 5,\n",
    "    'haumea': 2,\n",
    "    'makemake': 1,\n",
    "    'eris': 1\n",
    "}\n",
    "\n",
    "moons = 0\n",
    "planets = planet_moons.__len__()\n",
    "\n",
    "for lunas in planet_moons.values():\n",
    "    moons = moons + lunas\n",
    "\n",
    "print('Total de lunas:' + str(moons))\n",
    "print('Total de planetas:' + str(planets))\n",
    "print('Promedio de lunas:' + str(round(moons / planets)))\n",
    "\n"
   ]
  }
 ],
 "metadata": {
  "interpreter": {
   "hash": "916dbcbb3f70747c44a77c7bcd40155683ae19c65e1c03b4aa3499c5328201f1"
  },
  "kernelspec": {
   "display_name": "Python 3.8.10 64-bit",
   "language": "python",
   "name": "python3"
  },
  "language_info": {
   "codemirror_mode": {
    "name": "ipython",
    "version": 3
   },
   "file_extension": ".py",
   "mimetype": "text/x-python",
   "name": "python",
   "nbconvert_exporter": "python",
   "pygments_lexer": "ipython3",
   "version": "3.8.10"
  },
  "orig_nbformat": 4
 },
 "nbformat": 4,
 "nbformat_minor": 2
}
