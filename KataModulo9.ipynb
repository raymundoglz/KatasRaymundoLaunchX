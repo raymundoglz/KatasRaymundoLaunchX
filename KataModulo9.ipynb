{
 "cells": [
  {
   "cell_type": "markdown",
   "metadata": {},
   "source": [
    "# Ejercicio: Uso de funciones en Python"
   ]
  },
  {
   "cell_type": "code",
   "execution_count": 11,
   "metadata": {},
   "outputs": [
    {
     "name": "stdout",
     "output_type": "stream",
     "text": [
      "Contenido del Tanque 1: 950 litros\n",
      "Contenido del Tanque 2: 0 litros\n",
      "Contenido del Tanque 3: 1500 litros\n",
      "Promedio de litros por Tanque: 817 litros\n"
     ]
    }
   ],
   "source": [
    "# Función para leer 3 tanques de combustible y muestre el promedio\n",
    "\n",
    "def combustibleTanques(tanque1, tanque2, tanque3):\n",
    "    s1 = f'Contenido del Tanque 1: {tanque1} litros\\n'\n",
    "    s2 = f'Contenido del Tanque 2: {tanque2} litros\\n'\n",
    "    s3 = f'Contenido del Tanque 3: {tanque3} litros\\n'\n",
    "    s4 = 'Promedio de litros por Tanque: ' + str(round((tanque1+tanque2+tanque3)/3)) + ' litros'\n",
    "    return s1 + s2 + s3 + s4\n",
    "\n",
    "\n",
    "# Llamamos a la función que genera el reporte \n",
    "\n",
    "print(combustibleTanques(950,0,1500))\n",
    "\n"
   ]
  },
  {
   "cell_type": "code",
   "execution_count": 12,
   "metadata": {},
   "outputs": [
    {
     "name": "stdout",
     "output_type": "stream",
     "text": [
      "Contenido del Tanque 1: 950 litros\n",
      "Contenido del Tanque 2: 0 litros\n",
      "Contenido del Tanque 3: 1500 litros\n",
      "Promedio de litros por Tanque: 817 litros\n"
     ]
    }
   ],
   "source": [
    "# Función promedio \n",
    "\n",
    "def promedio(tanque1, tanque2, tanque3):\n",
    "    prom = round((tanque1+tanque2+tanque3)/3)\n",
    "    return prom\n",
    "\n",
    "# Actualiza la función\n",
    "\n",
    "def combustibleTanques(tanque1, tanque2, tanque3):\n",
    "    s1 = f'Contenido del Tanque 1: {tanque1} litros\\n'\n",
    "    s2 = f'Contenido del Tanque 2: {tanque2} litros\\n'\n",
    "    s3 = f'Contenido del Tanque 3: {tanque3} litros\\n'\n",
    "    s4 = 'Promedio de litros por Tanque: ' + str(round((tanque1+tanque2+tanque3)/3)) + ' litros'\n",
    "    return s1 + s2 + s3 + s4\n",
    "\n",
    "\n",
    "# Llamamos a la función que genera el reporte \n",
    "\n",
    "print(combustibleTanques(950,0,1500))\n",
    "\n"
   ]
  },
  {
   "cell_type": "markdown",
   "metadata": {},
   "source": [
    "# Ejercicio 2: Trabajo con argumentos de palabra clave"
   ]
  },
  {
   "cell_type": "code",
   "execution_count": 23,
   "metadata": {},
   "outputs": [
    {
     "name": "stdout",
     "output_type": "stream",
     "text": [
      "Destino de la mision: Marte\n",
      "Tiempo total de la mision: 10100 minutos\n",
      "Tanque interno: 980 litros\n",
      "Tanque externo: 1500 litros\n",
      "Destino de la mision: Marte\n",
      "Tiempo total de la mision: 10100 minutos\n",
      "Tanque Interno: 1500 litros\n",
      "Tanque Externo: 980 litros\n",
      "\n"
     ]
    }
   ],
   "source": [
    "# Función con un informe preciso de la misión.\n",
    "\n",
    "def informeMision(horaPrelanzamiento, tiempoVuelo, destino, tanqueExterno, tanqueInterno):\n",
    "    c1 = f'Destino de la mision: {destino}\\n'\n",
    "    c2 = f'Tiempo total de la mision: {horaPrelanzamiento + tiempoVuelo} minutos\\n'\n",
    "    c3 = f'Tanque interno: {tanqueInterno} litros\\n'\n",
    "    c4 = f'Tanque externo: {tanqueExterno} litros'\n",
    "    return c1 + c2 + c3 + c4\n",
    "\n",
    "print(informeMision(500,9600,'Marte',1500,980))\n",
    "\n",
    "\n",
    "# Escribe tu nueva función de reporte considerando *minutes y **fuel_reservoirs\n",
    "\n",
    "def informeMision2(destino1, *minutes, **fuel_reservoirs):\n",
    "    c1 = f'Destino de la mision: {destino1}\\n'\n",
    "    c2 = f'Tiempo total de la mision: {sum(minutes)} minutos\\n'\n",
    "    c3 = ''\n",
    "    for tanque, litros in fuel_reservoirs.items():\n",
    "        c3 += f'Tanque {tanque}: {litros} litros\\n'\n",
    "    \n",
    "    return c1 + c2 + c3\n",
    "\n",
    "print(informeMision2('Marte',500,9600,Interno=1500,Externo=980))"
   ]
  }
 ],
 "metadata": {
  "interpreter": {
   "hash": "916dbcbb3f70747c44a77c7bcd40155683ae19c65e1c03b4aa3499c5328201f1"
  },
  "kernelspec": {
   "display_name": "Python 3.8.10 64-bit",
   "language": "python",
   "name": "python3"
  },
  "language_info": {
   "codemirror_mode": {
    "name": "ipython",
    "version": 3
   },
   "file_extension": ".py",
   "mimetype": "text/x-python",
   "name": "python",
   "nbconvert_exporter": "python",
   "pygments_lexer": "ipython3",
   "version": "3.8.10"
  },
  "orig_nbformat": 4
 },
 "nbformat": 4,
 "nbformat_minor": 2
}
