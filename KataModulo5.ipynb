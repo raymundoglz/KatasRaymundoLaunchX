{
 "cells": [
  {
   "cell_type": "markdown",
   "metadata": {},
   "source": [
    "# Ejercicio1 - Utilizar operadores aritméticos"
   ]
  },
  {
   "cell_type": "code",
   "execution_count": 2,
   "metadata": {},
   "outputs": [
    {
     "name": "stdout",
     "output_type": "stream",
     "text": [
      "628949330\n",
      "390577533.93\n"
     ]
    }
   ],
   "source": [
    "Tierra = 149597870 # km\n",
    "Jupiter = 778547200 # km\n",
    "\n",
    "\n",
    "distancia = (Jupiter - Tierra)  \n",
    "\n",
    "#0.621\n",
    "\n",
    "print (distancia)\n",
    "\n",
    "print(distancia * 0.621)"
   ]
  },
  {
   "cell_type": "markdown",
   "metadata": {},
   "source": [
    "# Ejercicio 2: convierte cadenas en números y usa valores absolutos"
   ]
  },
  {
   "cell_type": "code",
   "execution_count": 5,
   "metadata": {},
   "outputs": [
    {
     "name": "stdout",
     "output_type": "stream",
     "text": [
      "Vamos a calcular la distancia entre dos planetas.\n",
      "\n",
      "La distancia entre los dos planetas es 5230199819991 km\n",
      "y la distancia 3247954088214.411 en millas\n"
     ]
    }
   ],
   "source": [
    "print('Vamos a calcular la distancia entre dos planetas.\\n')\n",
    "planeta1 = input('Introduce la distancia del primer planeta: ')\n",
    "planeta2 = input('Introduce la distancia del segundo planeta: ')\n",
    "resultado = abs(int(planeta1) - int(planeta2))\n",
    "resultado2 = resultado * 0.621\n",
    "\n",
    "print(f'La distancia entre los dos planetas es {resultado} km')\n",
    "print(f'y la distancia {resultado2} en millas')\n"
   ]
  }
 ],
 "metadata": {
  "interpreter": {
   "hash": "916dbcbb3f70747c44a77c7bcd40155683ae19c65e1c03b4aa3499c5328201f1"
  },
  "kernelspec": {
   "display_name": "Python 3.8.10 64-bit",
   "language": "python",
   "name": "python3"
  },
  "language_info": {
   "codemirror_mode": {
    "name": "ipython",
    "version": 3
   },
   "file_extension": ".py",
   "mimetype": "text/x-python",
   "name": "python",
   "nbconvert_exporter": "python",
   "pygments_lexer": "ipython3",
   "version": "3.8.10"
  },
  "orig_nbformat": 4
 },
 "nbformat": 4,
 "nbformat_minor": 2
}
