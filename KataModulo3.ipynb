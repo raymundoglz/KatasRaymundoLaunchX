{
 "cells": [
  {
   "cell_type": "code",
   "execution_count": 9,
   "metadata": {},
   "outputs": [
    {
     "name": "stdout",
     "output_type": "stream",
     "text": [
      "Un asteroide se acerca a la Tierra demasiado rápido\n"
     ]
    }
   ],
   "source": [
    "# Añadir el código necesario para crear una variable que guarde la velocidad del asteroide.\n",
    "# Escribe una expresión de prueba para calcular si necesita una advertencia.\n",
    "# Agregue las instrucciones que se ejecutarán si la expresión de prueba es true o false.\n",
    "\n",
    "velocidadAsteroide = 49\n",
    "if velocidadAsteroide > 25:\n",
    "    print('Un asteroide se acerca a la Tierra demasiado rápido')\n",
    "else:\n",
    "    print('Todo es felicidad¡¡')"
   ]
  },
  {
   "cell_type": "code",
   "execution_count": 10,
   "metadata": {},
   "outputs": [
    {
     "name": "stdout",
     "output_type": "stream",
     "text": [
      "Todo es felicidad¡¡\n"
     ]
    }
   ],
   "source": [
    "# Agrega el código para crear una variable para un asteroide que viaja a 19 km/s\n",
    "# Escribe varias expresiones de prueba para determinar si puedes ver el rayo de luz desde la tierra\n",
    "# Agrega las instrucciones que se ejecutarán si las expresiones de prueba son True o False\n",
    "\n",
    "velocidadAsteroide = 19\n",
    "if velocidadAsteroide > 25:\n",
    "    print('Un asteroide se acerca a la Tierra demasiado rápido')\n",
    "elif velocidadAsteroide >= 20:\n",
    "    print('Deben buscar un asteroide en el cielo. ¡Hay uno que se dirige a la tierra ahora a una velocidad de ' + str(velocidadAsteroide) + ' km/s')\n",
    "else:\n",
    "    print('Todo es felicidad¡¡')"
   ]
  },
  {
   "cell_type": "code",
   "execution_count": 15,
   "metadata": {},
   "outputs": [
    {
     "name": "stdout",
     "output_type": "stream",
     "text": [
      "Un asteroide se acerca a la Tierra demasiado rápido\n"
     ]
    }
   ],
   "source": [
    "# Agrega el código para crear nuevas variables para la velocidad y el tamaño del asteroide\n",
    "# Para probar el código, prueba con varias velocidades y tamaños\n",
    "# Escribe varias expresiones de prueba o combinaciones de expresiones de prueba para determinar qué mensaje se debe enviar a Tierra.\n",
    "\n",
    "velocidadAsteroide = 26 #en Km/s\n",
    "tamanoAsteroide = 50 #en metros\n",
    "\n",
    "if tamanoAsteroide >= 25 and tamanoAsteroide < 1000:\n",
    "    if velocidadAsteroide > 25:\n",
    "        print('Un asteroide se acerca a la Tierra demasiado rápido')\n",
    "    elif velocidadAsteroide >= 20:\n",
    "        print('Deben buscar un asteroide en el cielo. ¡Hay uno que se dirige a la tierra ahora a una velocidad de ' + str(velocidadAsteroide) + ' km/s')\n",
    "    else:\n",
    "        print('Todo es felicidad, el asteroide viene muy depacio ¡¡')\n",
    "elif tamanoAsteroide < 25:\n",
    "    print('No pasa nada, es una piedrita¡¡')\n",
    "else:\n",
    "    print('Ya nos cargo el payaso :(')"
   ]
  }
 ],
 "metadata": {
  "interpreter": {
   "hash": "916dbcbb3f70747c44a77c7bcd40155683ae19c65e1c03b4aa3499c5328201f1"
  },
  "kernelspec": {
   "display_name": "Python 3.8.10 64-bit",
   "language": "python",
   "name": "python3"
  },
  "language_info": {
   "codemirror_mode": {
    "name": "ipython",
    "version": 3
   },
   "file_extension": ".py",
   "mimetype": "text/x-python",
   "name": "python",
   "nbconvert_exporter": "python",
   "pygments_lexer": "ipython3",
   "version": "3.8.10"
  },
  "orig_nbformat": 4
 },
 "nbformat": 4,
 "nbformat_minor": 2
}
